{
 "cells": [
  {
   "cell_type": "markdown",
   "id": "a34bec84-3d02-4fba-a1fd-f48180057642",
   "metadata": {
    "tags": []
   },
   "source": [
    "## Importing Relevant Libraries"
   ]
  },
  {
   "cell_type": "code",
   "execution_count": 1,
   "id": "634554d0-731a-4a7b-aeb8-9e012aa23c58",
   "metadata": {
    "tags": []
   },
   "outputs": [],
   "source": [
    "import pandas as pd\n",
    "import numpy as np\n",
    "from google.cloud import bigquery\n",
    "from sklearn.model_selection import train_test_split\n",
    "from sklearn.linear_model import LinearRegression\n",
    "from sklearn.metrics import mean_absolute_error, r2_score\n",
    "from sklearn.preprocessing import OneHotEncoder\n",
    "from sklearn.preprocessing import StandardScaler\n",
    "from sklearn.pipeline import Pipeline\n",
    "from sklearn.ensemble import RandomForestRegressor\n",
    "from sklearn.model_selection import GridSearchCV\n",
    "from xgboost import XGBRegressor"
   ]
  },
  {
   "cell_type": "markdown",
   "id": "63fb862b-e6f0-4560-87bc-9e1ee935b0d7",
   "metadata": {},
   "source": [
    "## Data Retrieval"
   ]
  },
  {
   "cell_type": "markdown",
   "id": "cbbfb65c-1601-4087-b54e-00dfae9c4870",
   "metadata": {},
   "source": [
    "### Setting up Connection to BigQuery"
   ]
  },
  {
   "cell_type": "code",
   "execution_count": 2,
   "id": "08258a63-445f-4c34-b30d-bf8233872a9c",
   "metadata": {
    "tags": []
   },
   "outputs": [],
   "source": [
    "client = bigquery.Client()"
   ]
  },
  {
   "cell_type": "markdown",
   "id": "bf9a3a9a-a719-4f82-a646-d8541347bd52",
   "metadata": {},
   "source": [
    "### Loading Data from BigQuery"
   ]
  },
  {
   "cell_type": "code",
   "execution_count": 3,
   "id": "a49fbe6c-8eab-44cf-8012-c07c179062a2",
   "metadata": {
    "tags": []
   },
   "outputs": [
    {
     "data": {
      "text/html": [
       "<div>\n",
       "<style scoped>\n",
       "    .dataframe tbody tr th:only-of-type {\n",
       "        vertical-align: middle;\n",
       "    }\n",
       "\n",
       "    .dataframe tbody tr th {\n",
       "        vertical-align: top;\n",
       "    }\n",
       "\n",
       "    .dataframe thead th {\n",
       "        text-align: right;\n",
       "    }\n",
       "</style>\n",
       "<table border=\"1\" class=\"dataframe\">\n",
       "  <thead>\n",
       "    <tr style=\"text-align: right;\">\n",
       "      <th></th>\n",
       "      <th>resource_state</th>\n",
       "      <th>name</th>\n",
       "      <th>distance</th>\n",
       "      <th>moving_time</th>\n",
       "      <th>elapsed_time</th>\n",
       "      <th>total_elevation_gain</th>\n",
       "      <th>type</th>\n",
       "      <th>sport_type</th>\n",
       "      <th>workout_type</th>\n",
       "      <th>id</th>\n",
       "      <th>...</th>\n",
       "      <th>similar_activities_average_speed</th>\n",
       "      <th>similar_activities_min_average_speed</th>\n",
       "      <th>similar_activities_mid_average_speed</th>\n",
       "      <th>similar_activities_max_average_speed</th>\n",
       "      <th>similar_activities_pr_rank</th>\n",
       "      <th>similar_activities_frequency_milestone</th>\n",
       "      <th>elevation_change</th>\n",
       "      <th>day_of_week</th>\n",
       "      <th>hour</th>\n",
       "      <th>month</th>\n",
       "    </tr>\n",
       "  </thead>\n",
       "  <tbody>\n",
       "    <tr>\n",
       "      <th>0</th>\n",
       "      <td>3</td>\n",
       "      <td>2024 Erie Marathon</td>\n",
       "      <td>42346.6</td>\n",
       "      <td>9454</td>\n",
       "      <td>9454</td>\n",
       "      <td>101.0</td>\n",
       "      <td>Run</td>\n",
       "      <td>Run</td>\n",
       "      <td>1</td>\n",
       "      <td>12359295567</td>\n",
       "      <td>...</td>\n",
       "      <td>NaN</td>\n",
       "      <td>NaN</td>\n",
       "      <td>NaN</td>\n",
       "      <td>NaN</td>\n",
       "      <td>NaN</td>\n",
       "      <td>&lt;NA&gt;</td>\n",
       "      <td>29.0</td>\n",
       "      <td>Sunday</td>\n",
       "      <td>7</td>\n",
       "      <td>September</td>\n",
       "    </tr>\n",
       "    <tr>\n",
       "      <th>1</th>\n",
       "      <td>3</td>\n",
       "      <td>test drive</td>\n",
       "      <td>26839.7</td>\n",
       "      <td>6434</td>\n",
       "      <td>7004</td>\n",
       "      <td>275.0</td>\n",
       "      <td>Run</td>\n",
       "      <td>Run</td>\n",
       "      <td>0</td>\n",
       "      <td>11712490472</td>\n",
       "      <td>...</td>\n",
       "      <td>NaN</td>\n",
       "      <td>NaN</td>\n",
       "      <td>NaN</td>\n",
       "      <td>NaN</td>\n",
       "      <td>NaN</td>\n",
       "      <td>&lt;NA&gt;</td>\n",
       "      <td>59.2</td>\n",
       "      <td>Saturday</td>\n",
       "      <td>8</td>\n",
       "      <td>June</td>\n",
       "    </tr>\n",
       "    <tr>\n",
       "      <th>2</th>\n",
       "      <td>3</td>\n",
       "      <td>pmp bonk</td>\n",
       "      <td>16609.6</td>\n",
       "      <td>4061</td>\n",
       "      <td>4376</td>\n",
       "      <td>30.0</td>\n",
       "      <td>Run</td>\n",
       "      <td>Run</td>\n",
       "      <td>0</td>\n",
       "      <td>11821538649</td>\n",
       "      <td>...</td>\n",
       "      <td>NaN</td>\n",
       "      <td>NaN</td>\n",
       "      <td>NaN</td>\n",
       "      <td>NaN</td>\n",
       "      <td>NaN</td>\n",
       "      <td>&lt;NA&gt;</td>\n",
       "      <td>19.2</td>\n",
       "      <td>Saturday</td>\n",
       "      <td>7</td>\n",
       "      <td>July</td>\n",
       "    </tr>\n",
       "    <tr>\n",
       "      <th>3</th>\n",
       "      <td>3</td>\n",
       "      <td>locked and loaded</td>\n",
       "      <td>6457.0</td>\n",
       "      <td>1726</td>\n",
       "      <td>1810</td>\n",
       "      <td>54.0</td>\n",
       "      <td>Run</td>\n",
       "      <td>Run</td>\n",
       "      <td>0</td>\n",
       "      <td>12352617132</td>\n",
       "      <td>...</td>\n",
       "      <td>NaN</td>\n",
       "      <td>NaN</td>\n",
       "      <td>NaN</td>\n",
       "      <td>NaN</td>\n",
       "      <td>NaN</td>\n",
       "      <td>&lt;NA&gt;</td>\n",
       "      <td>23.0</td>\n",
       "      <td>Saturday</td>\n",
       "      <td>15</td>\n",
       "      <td>September</td>\n",
       "    </tr>\n",
       "    <tr>\n",
       "      <th>4</th>\n",
       "      <td>3</td>\n",
       "      <td>beep boppin around</td>\n",
       "      <td>17741.5</td>\n",
       "      <td>4502</td>\n",
       "      <td>4706</td>\n",
       "      <td>225.0</td>\n",
       "      <td>Run</td>\n",
       "      <td>Run</td>\n",
       "      <td>0</td>\n",
       "      <td>12155934411</td>\n",
       "      <td>...</td>\n",
       "      <td>NaN</td>\n",
       "      <td>NaN</td>\n",
       "      <td>NaN</td>\n",
       "      <td>NaN</td>\n",
       "      <td>NaN</td>\n",
       "      <td>&lt;NA&gt;</td>\n",
       "      <td>69.0</td>\n",
       "      <td>Thursday</td>\n",
       "      <td>11</td>\n",
       "      <td>August</td>\n",
       "    </tr>\n",
       "  </tbody>\n",
       "</table>\n",
       "<p>5 rows × 69 columns</p>\n",
       "</div>"
      ],
      "text/plain": [
       "   resource_state                name  distance  moving_time  elapsed_time  \\\n",
       "0               3  2024 Erie Marathon   42346.6         9454          9454   \n",
       "1               3          test drive   26839.7         6434          7004   \n",
       "2               3            pmp bonk   16609.6         4061          4376   \n",
       "3               3   locked and loaded    6457.0         1726          1810   \n",
       "4               3  beep boppin around   17741.5         4502          4706   \n",
       "\n",
       "   total_elevation_gain type sport_type  workout_type           id  ...  \\\n",
       "0                 101.0  Run        Run             1  12359295567  ...   \n",
       "1                 275.0  Run        Run             0  11712490472  ...   \n",
       "2                  30.0  Run        Run             0  11821538649  ...   \n",
       "3                  54.0  Run        Run             0  12352617132  ...   \n",
       "4                 225.0  Run        Run             0  12155934411  ...   \n",
       "\n",
       "  similar_activities_average_speed similar_activities_min_average_speed  \\\n",
       "0                              NaN                                  NaN   \n",
       "1                              NaN                                  NaN   \n",
       "2                              NaN                                  NaN   \n",
       "3                              NaN                                  NaN   \n",
       "4                              NaN                                  NaN   \n",
       "\n",
       "  similar_activities_mid_average_speed  similar_activities_max_average_speed  \\\n",
       "0                                  NaN                                   NaN   \n",
       "1                                  NaN                                   NaN   \n",
       "2                                  NaN                                   NaN   \n",
       "3                                  NaN                                   NaN   \n",
       "4                                  NaN                                   NaN   \n",
       "\n",
       "   similar_activities_pr_rank  similar_activities_frequency_milestone  \\\n",
       "0                         NaN                                    <NA>   \n",
       "1                         NaN                                    <NA>   \n",
       "2                         NaN                                    <NA>   \n",
       "3                         NaN                                    <NA>   \n",
       "4                         NaN                                    <NA>   \n",
       "\n",
       "   elevation_change  day_of_week  hour      month  \n",
       "0              29.0       Sunday     7  September  \n",
       "1              59.2     Saturday     8       June  \n",
       "2              19.2     Saturday     7       July  \n",
       "3              23.0     Saturday    15  September  \n",
       "4              69.0     Thursday    11     August  \n",
       "\n",
       "[5 rows x 69 columns]"
      ]
     },
     "execution_count": 3,
     "metadata": {},
     "output_type": "execute_result"
    }
   ],
   "source": [
    "# Define the query to retrieve data from the activities table\n",
    "activities_query = \"\"\"\n",
    "    SELECT * FROM `strava-etl.strava_data.activities`\n",
    "\"\"\"\n",
    "activities_query_job = client.query(activities_query)\n",
    "\n",
    "# Convert activities data to a dataframe\n",
    "activities = activities_query_job.to_dataframe()\n",
    "activities.head()"
   ]
  },
  {
   "cell_type": "markdown",
   "id": "b55fbc63-8e0d-4438-8d6b-045e718825fe",
   "metadata": {},
   "source": [
    "## Data Exploration"
   ]
  },
  {
   "cell_type": "code",
   "execution_count": 4,
   "id": "c6dfe7cb-7f7b-4b9d-865b-2598992247c1",
   "metadata": {
    "tags": []
   },
   "outputs": [
    {
     "data": {
      "text/plain": [
       "resource_state                              Int64\n",
       "name                                       object\n",
       "distance                                  float64\n",
       "moving_time                                 Int64\n",
       "elapsed_time                                Int64\n",
       "                                           ...   \n",
       "similar_activities_frequency_milestone      Int64\n",
       "elevation_change                          float64\n",
       "day_of_week                                object\n",
       "hour                                        Int64\n",
       "month                                      object\n",
       "Length: 69, dtype: object"
      ]
     },
     "execution_count": 4,
     "metadata": {},
     "output_type": "execute_result"
    }
   ],
   "source": [
    "activities.dtypes"
   ]
  },
  {
   "cell_type": "markdown",
   "id": "fe665e78-31ec-4dc0-ae72-a7b43646fd68",
   "metadata": {},
   "source": [
    "## Data Preprocessing"
   ]
  },
  {
   "cell_type": "markdown",
   "id": "9ab249c0-63ba-40d5-b1f3-afe0cdde3290",
   "metadata": {},
   "source": [
    "### Removing Duplicates"
   ]
  },
  {
   "cell_type": "code",
   "execution_count": 5,
   "id": "b8272bc7-e1b8-4033-9f94-f215a902df04",
   "metadata": {
    "tags": []
   },
   "outputs": [],
   "source": [
    "activities = activities.drop_duplicates(subset='id', keep='first')"
   ]
  },
  {
   "cell_type": "markdown",
   "id": "a35f8677-e15b-4d3f-a569-811241ede234",
   "metadata": {},
   "source": [
    "### Drop Empty Columns"
   ]
  },
  {
   "cell_type": "code",
   "execution_count": 6,
   "id": "c31b00ad-cec6-4433-82c9-e575b050a477",
   "metadata": {
    "tags": []
   },
   "outputs": [
    {
     "name": "stdout",
     "output_type": "stream",
     "text": [
      "Dropped columns: Index(['location_city', 'location_state', 'location_country',\n",
      "       'similar_activities_effort_count', 'similar_activities_average_speed',\n",
      "       'similar_activities_min_average_speed',\n",
      "       'similar_activities_mid_average_speed',\n",
      "       'similar_activities_max_average_speed', 'similar_activities_pr_rank',\n",
      "       'similar_activities_frequency_milestone'],\n",
      "      dtype='object')\n",
      "(182, 59)\n"
     ]
    },
    {
     "data": {
      "text/html": [
       "<div>\n",
       "<style scoped>\n",
       "    .dataframe tbody tr th:only-of-type {\n",
       "        vertical-align: middle;\n",
       "    }\n",
       "\n",
       "    .dataframe tbody tr th {\n",
       "        vertical-align: top;\n",
       "    }\n",
       "\n",
       "    .dataframe thead th {\n",
       "        text-align: right;\n",
       "    }\n",
       "</style>\n",
       "<table border=\"1\" class=\"dataframe\">\n",
       "  <thead>\n",
       "    <tr style=\"text-align: right;\">\n",
       "      <th></th>\n",
       "      <th>resource_state</th>\n",
       "      <th>name</th>\n",
       "      <th>distance</th>\n",
       "      <th>moving_time</th>\n",
       "      <th>elapsed_time</th>\n",
       "      <th>total_elevation_gain</th>\n",
       "      <th>type</th>\n",
       "      <th>sport_type</th>\n",
       "      <th>workout_type</th>\n",
       "      <th>id</th>\n",
       "      <th>...</th>\n",
       "      <th>device_name</th>\n",
       "      <th>embed_token</th>\n",
       "      <th>athlete_id</th>\n",
       "      <th>gear_primary</th>\n",
       "      <th>gear_name</th>\n",
       "      <th>gear_distance</th>\n",
       "      <th>elevation_change</th>\n",
       "      <th>day_of_week</th>\n",
       "      <th>hour</th>\n",
       "      <th>month</th>\n",
       "    </tr>\n",
       "  </thead>\n",
       "  <tbody>\n",
       "    <tr>\n",
       "      <th>0</th>\n",
       "      <td>3</td>\n",
       "      <td>2024 Erie Marathon</td>\n",
       "      <td>42346.6</td>\n",
       "      <td>9454</td>\n",
       "      <td>9454</td>\n",
       "      <td>101.0</td>\n",
       "      <td>Run</td>\n",
       "      <td>Run</td>\n",
       "      <td>1</td>\n",
       "      <td>12359295567</td>\n",
       "      <td>...</td>\n",
       "      <td>Garmin Forerunner 255S</td>\n",
       "      <td>aefaf206c94f6ead861c43d4335d5ae2eb197247</td>\n",
       "      <td>57248538</td>\n",
       "      <td>0</td>\n",
       "      <td>ASICS METASPEED SKY PARIS</td>\n",
       "      <td>85795</td>\n",
       "      <td>29.0</td>\n",
       "      <td>Sunday</td>\n",
       "      <td>7</td>\n",
       "      <td>September</td>\n",
       "    </tr>\n",
       "    <tr>\n",
       "      <th>1</th>\n",
       "      <td>3</td>\n",
       "      <td>test drive</td>\n",
       "      <td>26839.7</td>\n",
       "      <td>6434</td>\n",
       "      <td>7004</td>\n",
       "      <td>275.0</td>\n",
       "      <td>Run</td>\n",
       "      <td>Run</td>\n",
       "      <td>0</td>\n",
       "      <td>11712490472</td>\n",
       "      <td>...</td>\n",
       "      <td>Garmin Forerunner 255S</td>\n",
       "      <td>3d75b535b9ee73d6a85a3e3e191246e15e8bd252</td>\n",
       "      <td>57248538</td>\n",
       "      <td>0</td>\n",
       "      <td>ASICS METASPEED SKY PARIS</td>\n",
       "      <td>85795</td>\n",
       "      <td>59.2</td>\n",
       "      <td>Saturday</td>\n",
       "      <td>8</td>\n",
       "      <td>June</td>\n",
       "    </tr>\n",
       "    <tr>\n",
       "      <th>2</th>\n",
       "      <td>3</td>\n",
       "      <td>pmp bonk</td>\n",
       "      <td>16609.6</td>\n",
       "      <td>4061</td>\n",
       "      <td>4376</td>\n",
       "      <td>30.0</td>\n",
       "      <td>Run</td>\n",
       "      <td>Run</td>\n",
       "      <td>0</td>\n",
       "      <td>11821538649</td>\n",
       "      <td>...</td>\n",
       "      <td>Garmin Forerunner 255S</td>\n",
       "      <td>f63d39811f684dea5367d21e8f7a734030da62c1</td>\n",
       "      <td>57248538</td>\n",
       "      <td>0</td>\n",
       "      <td>ASICS METASPEED SKY PARIS</td>\n",
       "      <td>85795</td>\n",
       "      <td>19.2</td>\n",
       "      <td>Saturday</td>\n",
       "      <td>7</td>\n",
       "      <td>July</td>\n",
       "    </tr>\n",
       "    <tr>\n",
       "      <th>3</th>\n",
       "      <td>3</td>\n",
       "      <td>locked and loaded</td>\n",
       "      <td>6457.0</td>\n",
       "      <td>1726</td>\n",
       "      <td>1810</td>\n",
       "      <td>54.0</td>\n",
       "      <td>Run</td>\n",
       "      <td>Run</td>\n",
       "      <td>0</td>\n",
       "      <td>12352617132</td>\n",
       "      <td>...</td>\n",
       "      <td>Garmin Forerunner 255S</td>\n",
       "      <td>5598d42fec4009e1986f24015f2d530146c5a6db</td>\n",
       "      <td>57248538</td>\n",
       "      <td>0</td>\n",
       "      <td>ASICS Superblast 2</td>\n",
       "      <td>311088</td>\n",
       "      <td>23.0</td>\n",
       "      <td>Saturday</td>\n",
       "      <td>15</td>\n",
       "      <td>September</td>\n",
       "    </tr>\n",
       "    <tr>\n",
       "      <th>4</th>\n",
       "      <td>3</td>\n",
       "      <td>beep boppin around</td>\n",
       "      <td>17741.5</td>\n",
       "      <td>4502</td>\n",
       "      <td>4706</td>\n",
       "      <td>225.0</td>\n",
       "      <td>Run</td>\n",
       "      <td>Run</td>\n",
       "      <td>0</td>\n",
       "      <td>12155934411</td>\n",
       "      <td>...</td>\n",
       "      <td>Garmin Forerunner 255S</td>\n",
       "      <td>25bc1d37865da54746aefd2271c3b7ccc9f71bad</td>\n",
       "      <td>57248538</td>\n",
       "      <td>0</td>\n",
       "      <td>ASICS Superblast 2</td>\n",
       "      <td>311088</td>\n",
       "      <td>69.0</td>\n",
       "      <td>Thursday</td>\n",
       "      <td>11</td>\n",
       "      <td>August</td>\n",
       "    </tr>\n",
       "  </tbody>\n",
       "</table>\n",
       "<p>5 rows × 59 columns</p>\n",
       "</div>"
      ],
      "text/plain": [
       "   resource_state                name  distance  moving_time  elapsed_time  \\\n",
       "0               3  2024 Erie Marathon   42346.6         9454          9454   \n",
       "1               3          test drive   26839.7         6434          7004   \n",
       "2               3            pmp bonk   16609.6         4061          4376   \n",
       "3               3   locked and loaded    6457.0         1726          1810   \n",
       "4               3  beep boppin around   17741.5         4502          4706   \n",
       "\n",
       "   total_elevation_gain type sport_type  workout_type           id  ...  \\\n",
       "0                 101.0  Run        Run             1  12359295567  ...   \n",
       "1                 275.0  Run        Run             0  11712490472  ...   \n",
       "2                  30.0  Run        Run             0  11821538649  ...   \n",
       "3                  54.0  Run        Run             0  12352617132  ...   \n",
       "4                 225.0  Run        Run             0  12155934411  ...   \n",
       "\n",
       "              device_name                               embed_token  \\\n",
       "0  Garmin Forerunner 255S  aefaf206c94f6ead861c43d4335d5ae2eb197247   \n",
       "1  Garmin Forerunner 255S  3d75b535b9ee73d6a85a3e3e191246e15e8bd252   \n",
       "2  Garmin Forerunner 255S  f63d39811f684dea5367d21e8f7a734030da62c1   \n",
       "3  Garmin Forerunner 255S  5598d42fec4009e1986f24015f2d530146c5a6db   \n",
       "4  Garmin Forerunner 255S  25bc1d37865da54746aefd2271c3b7ccc9f71bad   \n",
       "\n",
       "  athlete_id  gear_primary                  gear_name  gear_distance  \\\n",
       "0   57248538             0  ASICS METASPEED SKY PARIS          85795   \n",
       "1   57248538             0  ASICS METASPEED SKY PARIS          85795   \n",
       "2   57248538             0  ASICS METASPEED SKY PARIS          85795   \n",
       "3   57248538             0         ASICS Superblast 2         311088   \n",
       "4   57248538             0         ASICS Superblast 2         311088   \n",
       "\n",
       "   elevation_change  day_of_week  hour      month  \n",
       "0              29.0       Sunday     7  September  \n",
       "1              59.2     Saturday     8       June  \n",
       "2              19.2     Saturday     7       July  \n",
       "3              23.0     Saturday    15  September  \n",
       "4              69.0     Thursday    11     August  \n",
       "\n",
       "[5 rows x 59 columns]"
      ]
     },
     "execution_count": 6,
     "metadata": {},
     "output_type": "execute_result"
    }
   ],
   "source": [
    "# Identify columns that are completely empty\n",
    "empty_columns = activities.columns[activities.isna().all()]\n",
    "\n",
    "# Drop columns that are completely empty\n",
    "activities = activities.drop(columns=empty_columns)\n",
    "\n",
    "# Print the names of dropped columns (optional)\n",
    "print(\"Dropped columns:\", empty_columns)\n",
    "\n",
    "# Print the shape of the new dataframe\n",
    "print(activities.shape)\n",
    "\n",
    "# Print the new dataframe\n",
    "activities.head(5)"
   ]
  },
  {
   "cell_type": "markdown",
   "id": "5f0222e1-c86b-4a73-9513-85282d23f12f",
   "metadata": {},
   "source": [
    "### Checking for missing values"
   ]
  },
  {
   "cell_type": "code",
   "execution_count": 7,
   "id": "348d78bd-5e82-44d7-b36b-3af339ec6834",
   "metadata": {
    "tags": []
   },
   "outputs": [
    {
     "name": "stdout",
     "output_type": "stream",
     "text": [
      "resource_state                 0\n",
      "name                           0\n",
      "distance                       0\n",
      "moving_time                    0\n",
      "elapsed_time                   0\n",
      "total_elevation_gain           0\n",
      "type                           0\n",
      "sport_type                     0\n",
      "workout_type                   1\n",
      "id                             0\n",
      "start_date                     0\n",
      "start_date_local               0\n",
      "timezone                       0\n",
      "achievement_count              0\n",
      "kudos_count                    0\n",
      "comment_count                  0\n",
      "athlete_count                  0\n",
      "photo_count                    0\n",
      "trainer                        0\n",
      "commute                        0\n",
      "manual                         0\n",
      "private                        0\n",
      "visibility                     0\n",
      "flagged                        0\n",
      "gear_id                        0\n",
      "start_latlng                   0\n",
      "end_latlng                     0\n",
      "average_speed                  0\n",
      "max_speed                      0\n",
      "average_cadence                0\n",
      "average_watts                  0\n",
      "max_watts                      0\n",
      "weighted_average_watts         0\n",
      "kilojoules                     0\n",
      "device_watts                   0\n",
      "has_heartrate                  0\n",
      "average_heartrate              0\n",
      "max_heartrate                  0\n",
      "elev_high                      0\n",
      "elev_low                       0\n",
      "upload_id                      0\n",
      "upload_id_str                  0\n",
      "external_id                    0\n",
      "pr_count                       0\n",
      "total_photo_count              0\n",
      "suffer_score                   0\n",
      "calories                       0\n",
      "perceived_exertion           181\n",
      "prefer_perceived_exertion      1\n",
      "device_name                    0\n",
      "embed_token                    0\n",
      "athlete_id                     0\n",
      "gear_primary                   0\n",
      "gear_name                      0\n",
      "gear_distance                  0\n",
      "elevation_change               0\n",
      "day_of_week                    0\n",
      "hour                           0\n",
      "month                          0\n",
      "dtype: int64\n"
     ]
    }
   ],
   "source": [
    "# Get the count of missing values in each column\n",
    "missing_values = activities.isna().sum()\n",
    "\n",
    "# Display columns with their respective missing values count\n",
    "print(missing_values)"
   ]
  },
  {
   "cell_type": "code",
   "execution_count": 8,
   "id": "21a5d007-53fc-4512-9d1b-956d714f151e",
   "metadata": {
    "tags": []
   },
   "outputs": [],
   "source": [
    "activities.drop(['workout_type', 'prefer_perceived_exertion'], axis=1,inplace=True)"
   ]
  },
  {
   "cell_type": "markdown",
   "id": "8f3f49d2-e6b7-47cb-9b44-99b41fd207c5",
   "metadata": {},
   "source": [
    "### Removing Demo activities"
   ]
  },
  {
   "cell_type": "code",
   "execution_count": 9,
   "id": "4db78c17-1d50-4915-a6d7-831cc9943328",
   "metadata": {
    "tags": []
   },
   "outputs": [],
   "source": [
    "activities = activities[activities['distance']>100]"
   ]
  },
  {
   "cell_type": "code",
   "execution_count": 10,
   "id": "6844c36e-ba37-4861-834d-71653ee8234b",
   "metadata": {
    "tags": []
   },
   "outputs": [],
   "source": [
    "activities.reset_index(inplace=True)"
   ]
  },
  {
   "cell_type": "markdown",
   "id": "a31c40f1-5db6-487e-be23-47c75dfe3781",
   "metadata": {
    "tags": []
   },
   "source": [
    "## Prediciting Calories Burned from Activities Table"
   ]
  },
  {
   "cell_type": "code",
   "execution_count": 11,
   "id": "a1bf86a2-eb5d-479c-8205-a8af8840a733",
   "metadata": {
    "tags": []
   },
   "outputs": [
    {
     "data": {
      "text/plain": [
       "array(['index', 'resource_state', 'name', 'distance', 'moving_time',\n",
       "       'elapsed_time', 'total_elevation_gain', 'type', 'sport_type', 'id',\n",
       "       'start_date', 'start_date_local', 'timezone', 'achievement_count',\n",
       "       'kudos_count', 'comment_count', 'athlete_count', 'photo_count',\n",
       "       'trainer', 'commute', 'manual', 'private', 'visibility', 'flagged',\n",
       "       'gear_id', 'start_latlng', 'end_latlng', 'average_speed',\n",
       "       'max_speed', 'average_cadence', 'average_watts', 'max_watts',\n",
       "       'weighted_average_watts', 'kilojoules', 'device_watts',\n",
       "       'has_heartrate', 'average_heartrate', 'max_heartrate', 'elev_high',\n",
       "       'elev_low', 'upload_id', 'upload_id_str', 'external_id',\n",
       "       'pr_count', 'total_photo_count', 'suffer_score', 'calories',\n",
       "       'perceived_exertion', 'device_name', 'embed_token', 'athlete_id',\n",
       "       'gear_primary', 'gear_name', 'gear_distance', 'elevation_change',\n",
       "       'day_of_week', 'hour', 'month'], dtype=object)"
      ]
     },
     "execution_count": 11,
     "metadata": {},
     "output_type": "execute_result"
    }
   ],
   "source": [
    "activities.columns.values"
   ]
  },
  {
   "cell_type": "code",
   "execution_count": 12,
   "id": "2e18ab8f-5c64-436a-bd8f-d6c612d53782",
   "metadata": {
    "tags": []
   },
   "outputs": [],
   "source": [
    "# List of selected columns to keep as features\n",
    "feature_columns = [\n",
    "    'distance', 'moving_time', 'elapsed_time', 'total_elevation_gain',\n",
    "    'average_speed', 'max_speed', 'average_cadence', 'max_watts', 'average_watts',\n",
    "    'kilojoules', 'average_heartrate', 'max_heartrate', 'suffer_score', 'elevation_change'\n",
    "]\n",
    "\n",
    "# Keep only the selected columns in your DataFrame\n",
    "X = activities[feature_columns]\n",
    "y = activities['calories']"
   ]
  },
  {
   "cell_type": "code",
   "execution_count": 13,
   "id": "610e1d23-b06e-4052-8fdc-8e6a63e02230",
   "metadata": {
    "tags": []
   },
   "outputs": [],
   "source": [
    "X_train, X_test, y_train, y_test = train_test_split(X, y, test_size=0.2, random_state=42)"
   ]
  },
  {
   "cell_type": "markdown",
   "id": "45807679-7272-4d3f-8ac3-f2c14697548c",
   "metadata": {},
   "source": [
    "### Modeling"
   ]
  },
  {
   "cell_type": "markdown",
   "id": "2839f8ed-4f09-4280-857e-a98dc9ec6926",
   "metadata": {},
   "source": [
    "### Linear Regression Model"
   ]
  },
  {
   "cell_type": "code",
   "execution_count": 14,
   "id": "4f983d19-af12-4f07-8e4d-3b5c54f06c14",
   "metadata": {
    "tags": []
   },
   "outputs": [
    {
     "name": "stdout",
     "output_type": "stream",
     "text": [
      "Linear Regression MAE: 24.8915477154187\n",
      "Linear Regression R²: 0.9929421851926067\n"
     ]
    }
   ],
   "source": [
    "pipeline_lr = Pipeline([\n",
    "    ('scaler', StandardScaler()),\n",
    "    ('lr', LinearRegression())\n",
    "])\n",
    "\n",
    "pipeline_lr.fit(X_train, y_train)\n",
    "y_pred_lr = pipeline_lr.predict(X_test)\n",
    "\n",
    "mae_lr = mean_absolute_error(y_test, y_pred_lr)\n",
    "r2_lr = r2_score(y_test, y_pred_lr)\n",
    "print(\"Linear Regression MAE:\", mae_lr)\n",
    "print(\"Linear Regression R²:\", r2_lr)"
   ]
  },
  {
   "cell_type": "markdown",
   "id": "02111cd9-6bf4-41e3-bb77-083bec47fe16",
   "metadata": {},
   "source": [
    "### Random Forest model"
   ]
  },
  {
   "cell_type": "code",
   "execution_count": 15,
   "id": "868baf7d-e95d-4798-96e7-243d6c99e6d1",
   "metadata": {
    "tags": []
   },
   "outputs": [
    {
     "name": "stdout",
     "output_type": "stream",
     "text": [
      "Random Forest MAE: 33.47718297190356\n",
      "Random Forest R²: 0.9813937909629401\n",
      "Best Parameters for Random Forest: {'rf__max_depth': 10, 'rf__min_samples_split': 2, 'rf__n_estimators': 100}\n"
     ]
    }
   ],
   "source": [
    "pipeline_rf = Pipeline([\n",
    "    ('scaler', StandardScaler()),\n",
    "    ('rf', RandomForestRegressor(random_state=42))\n",
    "])\n",
    "\n",
    "param_grid_rf = {\n",
    "    'rf__n_estimators': [100, 200, 300],\n",
    "    'rf__max_depth': [10, 20, 30, None],\n",
    "    'rf__min_samples_split': [2, 5, 10]\n",
    "}\n",
    "\n",
    "grid_search_rf = GridSearchCV(estimator=pipeline_rf, param_grid=param_grid_rf, cv=5, scoring='neg_mean_squared_error', n_jobs=-1, verbose=0)\n",
    "grid_search_rf.fit(X_train, y_train)\n",
    "\n",
    "best_rf = grid_search_rf.best_estimator_\n",
    "y_pred_rf = best_rf.predict(X_test)\n",
    "\n",
    "mae_rf = mean_absolute_error(y_test, y_pred_rf)\n",
    "r2_rf = r2_score(y_test, y_pred_rf)\n",
    "print(\"Random Forest MAE:\", mae_rf)\n",
    "print(\"Random Forest R²:\", r2_rf)\n",
    "print(\"Best Parameters for Random Forest:\", grid_search_rf.best_params_)"
   ]
  },
  {
   "cell_type": "markdown",
   "id": "0b0b29c7-fffb-4ccd-a6c3-f746cf680a3d",
   "metadata": {},
   "source": [
    "### XGBoost model"
   ]
  },
  {
   "cell_type": "code",
   "execution_count": 16,
   "id": "8708700b-08a6-439f-b3ef-d4ebbcc84463",
   "metadata": {
    "tags": []
   },
   "outputs": [
    {
     "name": "stdout",
     "output_type": "stream",
     "text": [
      "XGBoost MAE: 29.90284893963788\n",
      "XGBoost R²: 0.9871418337091263\n",
      "Best Parameters for XGBoost: {'xgb__learning_rate': 0.1, 'xgb__max_depth': 3, 'xgb__n_estimators': 100, 'xgb__subsample': 0.7}\n"
     ]
    }
   ],
   "source": [
    "pipeline_xgb = Pipeline([\n",
    "    ('scaler', StandardScaler()),\n",
    "    ('xgb', XGBRegressor(objective='reg:squarederror', random_state=42))\n",
    "])\n",
    "\n",
    "param_grid_xgb = {\n",
    "    'xgb__n_estimators': [100, 200],\n",
    "    'xgb__max_depth': [3, 6, 10],\n",
    "    'xgb__learning_rate': [0.01, 0.1, 0.2],\n",
    "    'xgb__subsample': [0.7, 0.8, 0.9]\n",
    "}\n",
    "\n",
    "grid_search_xgb = GridSearchCV(estimator=pipeline_xgb, param_grid=param_grid_xgb, cv=5, scoring='neg_mean_squared_error', n_jobs=-1, verbose=0)\n",
    "grid_search_xgb.fit(X_train, y_train)\n",
    "\n",
    "best_xgb = grid_search_xgb.best_estimator_\n",
    "y_pred_xgb = best_xgb.predict(X_test)\n",
    "\n",
    "mae_xgb = mean_absolute_error(y_test, y_pred_xgb)\n",
    "r2_xgb = r2_score(y_test, y_pred_xgb)\n",
    "print(\"XGBoost MAE:\", mae_xgb)\n",
    "print(\"XGBoost R²:\", r2_xgb)\n",
    "print(\"Best Parameters for XGBoost:\", grid_search_xgb.best_params_)"
   ]
  },
  {
   "cell_type": "markdown",
   "id": "b9ba8730-9831-4574-a92c-2dce8d91d53c",
   "metadata": {
    "tags": []
   },
   "source": [
    "### Best performance model"
   ]
  },
  {
   "cell_type": "code",
   "execution_count": 17,
   "id": "25c0d3d6-7a10-4d5a-b035-ec9aaefd6f31",
   "metadata": {
    "tags": []
   },
   "outputs": [
    {
     "name": "stdout",
     "output_type": "stream",
     "text": [
      "Best Model based on MAE:\n",
      "Linear Regression with MAE = 24.8915477154187 and R² = 0.9929421851926067\n",
      "\n",
      "Best Model based on R²:\n",
      "Linear Regression with R² = 0.9929421851926067 and MAE = 24.8915477154187\n"
     ]
    }
   ],
   "source": [
    "model_performance = {\n",
    "    \"Linear Regression\": {\"MAE\": mae_lr, \"R²\": r2_lr},\n",
    "    \"Random Forest\": {\"MAE\": mae_rf, \"R²\": r2_rf},\n",
    "    \"XGBoost\": {\"MAE\": mae_xgb, \"R²\": r2_xgb}\n",
    "}\n",
    "\n",
    "best_model_mae = min(model_performance, key=lambda x: model_performance[x][\"MAE\"])\n",
    "best_model_r2 = max(model_performance, key=lambda x: model_performance[x][\"R²\"])\n",
    "\n",
    "print(\"Best Model based on MAE:\")\n",
    "print(f\"{best_model_mae} with MAE = {model_performance[best_model_mae]['MAE']} and R² = {model_performance[best_model_mae]['R²']}\")\n",
    "\n",
    "print(\"\\nBest Model based on R²:\")\n",
    "print(f\"{best_model_r2} with R² = {model_performance[best_model_r2]['R²']} and MAE = {model_performance[best_model_r2]['MAE']}\")"
   ]
  },
  {
   "cell_type": "code",
   "execution_count": null,
   "id": "51c86ffa-9ecb-4640-bf16-edf7125df94f",
   "metadata": {},
   "outputs": [],
   "source": []
  }
 ],
 "metadata": {
  "environment": {
   "kernel": "python3",
   "name": "common-cu118.m125",
   "type": "gcloud",
   "uri": "us-docker.pkg.dev/deeplearning-platform-release/gcr.io/base-cu118:m125"
  },
  "kernelspec": {
   "display_name": "Python 3 (Local)",
   "language": "python",
   "name": "python3"
  },
  "language_info": {
   "codemirror_mode": {
    "name": "ipython",
    "version": 3
   },
   "file_extension": ".py",
   "mimetype": "text/x-python",
   "name": "python",
   "nbconvert_exporter": "python",
   "pygments_lexer": "ipython3",
   "version": "3.10.15"
  }
 },
 "nbformat": 4,
 "nbformat_minor": 5
}
