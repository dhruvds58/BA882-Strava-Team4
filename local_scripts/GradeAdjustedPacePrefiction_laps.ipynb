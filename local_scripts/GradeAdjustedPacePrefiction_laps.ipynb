{
 "cells": [
  {
   "cell_type": "markdown",
   "id": "a6610779-6470-43c7-8a77-de3b27b25be4",
   "metadata": {},
   "source": [
    "## Importing Relevant Libraries"
   ]
  },
  {
   "cell_type": "code",
   "execution_count": 37,
   "id": "7672ba3e-6224-4fd7-891a-dd80d666b1bc",
   "metadata": {
    "tags": []
   },
   "outputs": [],
   "source": [
    "import pandas as pd\n",
    "import numpy as np\n",
    "from google.cloud import bigquery\n",
    "from sklearn.model_selection import train_test_split\n",
    "from sklearn.linear_model import LinearRegression\n",
    "from sklearn.metrics import mean_absolute_error, r2_score\n",
    "from sklearn.preprocessing import OneHotEncoder\n",
    "from sklearn.preprocessing import StandardScaler\n",
    "from sklearn.pipeline import Pipeline\n",
    "from sklearn.ensemble import RandomForestRegressor\n",
    "from sklearn.model_selection import GridSearchCV\n",
    "from xgboost import XGBRegressor"
   ]
  },
  {
   "cell_type": "markdown",
   "id": "a93374c2-6561-4aee-814c-b12291f7b0f8",
   "metadata": {},
   "source": [
    "## Data Retrieval"
   ]
  },
  {
   "cell_type": "markdown",
   "id": "4d2a8dd5-7d71-4959-a9ef-101ea96ac9bb",
   "metadata": {},
   "source": [
    "### Setting up Connection to BigQuery"
   ]
  },
  {
   "cell_type": "code",
   "execution_count": 38,
   "id": "1b30819e-d197-46db-9db2-da0a05677156",
   "metadata": {
    "tags": []
   },
   "outputs": [],
   "source": [
    "client = bigquery.Client()"
   ]
  },
  {
   "cell_type": "markdown",
   "id": "22670880-993a-4989-8072-cefbfabd3ef2",
   "metadata": {},
   "source": [
    "### Loading Data from BigQuery"
   ]
  },
  {
   "cell_type": "code",
   "execution_count": 39,
   "id": "ad068435-2e07-4f10-9443-e680d4a40767",
   "metadata": {
    "tags": []
   },
   "outputs": [
    {
     "data": {
      "text/html": [
       "<div>\n",
       "<style scoped>\n",
       "    .dataframe tbody tr th:only-of-type {\n",
       "        vertical-align: middle;\n",
       "    }\n",
       "\n",
       "    .dataframe tbody tr th {\n",
       "        vertical-align: top;\n",
       "    }\n",
       "\n",
       "    .dataframe thead th {\n",
       "        text-align: right;\n",
       "    }\n",
       "</style>\n",
       "<table border=\"1\" class=\"dataframe\">\n",
       "  <thead>\n",
       "    <tr style=\"text-align: right;\">\n",
       "      <th></th>\n",
       "      <th>id</th>\n",
       "      <th>resource_state</th>\n",
       "      <th>name</th>\n",
       "      <th>elapsed_time</th>\n",
       "      <th>moving_time</th>\n",
       "      <th>start_date</th>\n",
       "      <th>start_date_local</th>\n",
       "      <th>distance</th>\n",
       "      <th>average_speed</th>\n",
       "      <th>max_speed</th>\n",
       "      <th>...</th>\n",
       "      <th>max_heartrate</th>\n",
       "      <th>pace_zone</th>\n",
       "      <th>activity_id</th>\n",
       "      <th>activity_visibility</th>\n",
       "      <th>activity_resource_state</th>\n",
       "      <th>athlete_id</th>\n",
       "      <th>athlete_resource_state</th>\n",
       "      <th>start_day</th>\n",
       "      <th>start_hour</th>\n",
       "      <th>start_weekday</th>\n",
       "    </tr>\n",
       "  </thead>\n",
       "  <tbody>\n",
       "    <tr>\n",
       "      <th>0</th>\n",
       "      <td>41582694580</td>\n",
       "      <td>2</td>\n",
       "      <td>Lap 4</td>\n",
       "      <td>398</td>\n",
       "      <td>398</td>\n",
       "      <td>2024-07-15 12:27:43+00:00</td>\n",
       "      <td>2024-07-15 08:27:43+00:00</td>\n",
       "      <td>1609.34</td>\n",
       "      <td>4.04</td>\n",
       "      <td>5.298</td>\n",
       "      <td>...</td>\n",
       "      <td>175.0</td>\n",
       "      <td>2</td>\n",
       "      <td>11893488406</td>\n",
       "      <td>None</td>\n",
       "      <td>&lt;NA&gt;</td>\n",
       "      <td>57248538</td>\n",
       "      <td>&lt;NA&gt;</td>\n",
       "      <td>15</td>\n",
       "      <td>8</td>\n",
       "      <td>0</td>\n",
       "    </tr>\n",
       "    <tr>\n",
       "      <th>1</th>\n",
       "      <td>41582694568</td>\n",
       "      <td>2</td>\n",
       "      <td>Lap 2</td>\n",
       "      <td>403</td>\n",
       "      <td>403</td>\n",
       "      <td>2024-07-15 12:14:16+00:00</td>\n",
       "      <td>2024-07-15 08:14:16+00:00</td>\n",
       "      <td>1609.34</td>\n",
       "      <td>3.99</td>\n",
       "      <td>4.946</td>\n",
       "      <td>...</td>\n",
       "      <td>166.0</td>\n",
       "      <td>2</td>\n",
       "      <td>11893488406</td>\n",
       "      <td>None</td>\n",
       "      <td>&lt;NA&gt;</td>\n",
       "      <td>57248538</td>\n",
       "      <td>&lt;NA&gt;</td>\n",
       "      <td>15</td>\n",
       "      <td>8</td>\n",
       "      <td>0</td>\n",
       "    </tr>\n",
       "    <tr>\n",
       "      <th>2</th>\n",
       "      <td>41582694590</td>\n",
       "      <td>2</td>\n",
       "      <td>Lap 5</td>\n",
       "      <td>404</td>\n",
       "      <td>404</td>\n",
       "      <td>2024-07-15 12:34:22+00:00</td>\n",
       "      <td>2024-07-15 08:34:22+00:00</td>\n",
       "      <td>1609.34</td>\n",
       "      <td>3.98</td>\n",
       "      <td>5.616</td>\n",
       "      <td>...</td>\n",
       "      <td>178.0</td>\n",
       "      <td>2</td>\n",
       "      <td>11893488406</td>\n",
       "      <td>None</td>\n",
       "      <td>&lt;NA&gt;</td>\n",
       "      <td>57248538</td>\n",
       "      <td>&lt;NA&gt;</td>\n",
       "      <td>15</td>\n",
       "      <td>8</td>\n",
       "      <td>0</td>\n",
       "    </tr>\n",
       "    <tr>\n",
       "      <th>3</th>\n",
       "      <td>41582694571</td>\n",
       "      <td>2</td>\n",
       "      <td>Lap 3</td>\n",
       "      <td>404</td>\n",
       "      <td>404</td>\n",
       "      <td>2024-07-15 12:20:59+00:00</td>\n",
       "      <td>2024-07-15 08:20:59+00:00</td>\n",
       "      <td>1609.34</td>\n",
       "      <td>3.98</td>\n",
       "      <td>4.826</td>\n",
       "      <td>...</td>\n",
       "      <td>169.0</td>\n",
       "      <td>2</td>\n",
       "      <td>11893488406</td>\n",
       "      <td>None</td>\n",
       "      <td>&lt;NA&gt;</td>\n",
       "      <td>57248538</td>\n",
       "      <td>&lt;NA&gt;</td>\n",
       "      <td>15</td>\n",
       "      <td>8</td>\n",
       "      <td>0</td>\n",
       "    </tr>\n",
       "    <tr>\n",
       "      <th>4</th>\n",
       "      <td>41582694609</td>\n",
       "      <td>2</td>\n",
       "      <td>Lap 8</td>\n",
       "      <td>411</td>\n",
       "      <td>411</td>\n",
       "      <td>2024-07-15 12:55:14+00:00</td>\n",
       "      <td>2024-07-15 08:55:14+00:00</td>\n",
       "      <td>1608.63</td>\n",
       "      <td>3.91</td>\n",
       "      <td>4.814</td>\n",
       "      <td>...</td>\n",
       "      <td>182.0</td>\n",
       "      <td>2</td>\n",
       "      <td>11893488406</td>\n",
       "      <td>None</td>\n",
       "      <td>&lt;NA&gt;</td>\n",
       "      <td>57248538</td>\n",
       "      <td>&lt;NA&gt;</td>\n",
       "      <td>15</td>\n",
       "      <td>8</td>\n",
       "      <td>0</td>\n",
       "    </tr>\n",
       "  </tbody>\n",
       "</table>\n",
       "<p>5 rows × 29 columns</p>\n",
       "</div>"
      ],
      "text/plain": [
       "            id  resource_state   name  elapsed_time  moving_time  \\\n",
       "0  41582694580               2  Lap 4           398          398   \n",
       "1  41582694568               2  Lap 2           403          403   \n",
       "2  41582694590               2  Lap 5           404          404   \n",
       "3  41582694571               2  Lap 3           404          404   \n",
       "4  41582694609               2  Lap 8           411          411   \n",
       "\n",
       "                 start_date          start_date_local  distance  \\\n",
       "0 2024-07-15 12:27:43+00:00 2024-07-15 08:27:43+00:00   1609.34   \n",
       "1 2024-07-15 12:14:16+00:00 2024-07-15 08:14:16+00:00   1609.34   \n",
       "2 2024-07-15 12:34:22+00:00 2024-07-15 08:34:22+00:00   1609.34   \n",
       "3 2024-07-15 12:20:59+00:00 2024-07-15 08:20:59+00:00   1609.34   \n",
       "4 2024-07-15 12:55:14+00:00 2024-07-15 08:55:14+00:00   1608.63   \n",
       "\n",
       "   average_speed  max_speed  ...  max_heartrate  pace_zone  activity_id  \\\n",
       "0           4.04      5.298  ...          175.0          2  11893488406   \n",
       "1           3.99      4.946  ...          166.0          2  11893488406   \n",
       "2           3.98      5.616  ...          178.0          2  11893488406   \n",
       "3           3.98      4.826  ...          169.0          2  11893488406   \n",
       "4           3.91      4.814  ...          182.0          2  11893488406   \n",
       "\n",
       "   activity_visibility  activity_resource_state  athlete_id  \\\n",
       "0                 None                     <NA>    57248538   \n",
       "1                 None                     <NA>    57248538   \n",
       "2                 None                     <NA>    57248538   \n",
       "3                 None                     <NA>    57248538   \n",
       "4                 None                     <NA>    57248538   \n",
       "\n",
       "   athlete_resource_state  start_day  start_hour  start_weekday  \n",
       "0                    <NA>         15           8              0  \n",
       "1                    <NA>         15           8              0  \n",
       "2                    <NA>         15           8              0  \n",
       "3                    <NA>         15           8              0  \n",
       "4                    <NA>         15           8              0  \n",
       "\n",
       "[5 rows x 29 columns]"
      ]
     },
     "execution_count": 39,
     "metadata": {},
     "output_type": "execute_result"
    }
   ],
   "source": [
    "# Define the query to retrieve data from the laps table\n",
    "laps_query = \"\"\"\n",
    "    SELECT * FROM `strava-etl.strava_data.laps`\n",
    "\"\"\"\n",
    "laps_query_job = client.query(laps_query)\n",
    "\n",
    "# Convert laps data to a dataframe\n",
    "laps = laps_query_job.to_dataframe()\n",
    "laps.head()"
   ]
  },
  {
   "cell_type": "markdown",
   "id": "86cd5125-c45e-4461-afd4-6bfc626a0671",
   "metadata": {},
   "source": [
    "## Data Exploration"
   ]
  },
  {
   "cell_type": "code",
   "execution_count": 40,
   "id": "f0fd7fc2-a53e-40ee-85b6-c9f154ed4ddd",
   "metadata": {
    "tags": []
   },
   "outputs": [
    {
     "data": {
      "text/plain": [
       "id                                       Int64\n",
       "resource_state                           Int64\n",
       "name                                    object\n",
       "elapsed_time                             Int64\n",
       "moving_time                              Int64\n",
       "start_date                 datetime64[us, UTC]\n",
       "start_date_local           datetime64[us, UTC]\n",
       "distance                               float64\n",
       "average_speed                          float64\n",
       "max_speed                              float64\n",
       "lap_index                                Int64\n",
       "split                                    Int64\n",
       "start_index                              Int64\n",
       "end_index                                Int64\n",
       "total_elevation_gain                   float64\n",
       "average_cadence                        float64\n",
       "device_watts                             Int64\n",
       "average_watts                          float64\n",
       "average_heartrate                      float64\n",
       "max_heartrate                          float64\n",
       "pace_zone                                Int64\n",
       "activity_id                              Int64\n",
       "activity_visibility                     object\n",
       "activity_resource_state                  Int64\n",
       "athlete_id                               Int64\n",
       "athlete_resource_state                   Int64\n",
       "start_day                                Int64\n",
       "start_hour                               Int64\n",
       "start_weekday                            Int64\n",
       "dtype: object"
      ]
     },
     "execution_count": 40,
     "metadata": {},
     "output_type": "execute_result"
    }
   ],
   "source": [
    "laps.dtypes"
   ]
  },
  {
   "cell_type": "markdown",
   "id": "5099936f-010f-436f-a0e2-240aeed2518f",
   "metadata": {},
   "source": [
    "## Data Preprocessing"
   ]
  },
  {
   "cell_type": "markdown",
   "id": "c80373f3-a9f4-4892-ba3f-5bd6dbda034e",
   "metadata": {},
   "source": [
    "### Removing Duplicates"
   ]
  },
  {
   "cell_type": "code",
   "execution_count": 41,
   "id": "aabcec2c-67d6-4cf0-9a84-fb66d196aca8",
   "metadata": {
    "tags": []
   },
   "outputs": [
    {
     "name": "stdout",
     "output_type": "stream",
     "text": [
      "(2184, 29)\n"
     ]
    }
   ],
   "source": [
    "print(laps.shape)"
   ]
  },
  {
   "cell_type": "code",
   "execution_count": 42,
   "id": "05e09f1c-1377-4d8f-80a3-499fb02a9258",
   "metadata": {
    "tags": []
   },
   "outputs": [],
   "source": [
    "laps = laps.drop_duplicates(subset='id', keep='first')"
   ]
  },
  {
   "cell_type": "code",
   "execution_count": 43,
   "id": "4255e93b-557d-4a99-a5f4-724e0847848a",
   "metadata": {
    "tags": []
   },
   "outputs": [
    {
     "name": "stdout",
     "output_type": "stream",
     "text": [
      "(2184, 29)\n"
     ]
    }
   ],
   "source": [
    "print(laps.shape)"
   ]
  },
  {
   "cell_type": "markdown",
   "id": "c679f649-222f-4508-b092-71394022661b",
   "metadata": {},
   "source": [
    "### Drop Empty Columns"
   ]
  },
  {
   "cell_type": "code",
   "execution_count": 44,
   "id": "fa3f8322-3af2-4a04-bbe0-25f85f23ccf7",
   "metadata": {
    "tags": []
   },
   "outputs": [
    {
     "name": "stdout",
     "output_type": "stream",
     "text": [
      "Dropped columns: Index(['activity_visibility', 'activity_resource_state',\n",
      "       'athlete_resource_state'],\n",
      "      dtype='object')\n",
      "(2184, 26)\n"
     ]
    },
    {
     "data": {
      "text/html": [
       "<div>\n",
       "<style scoped>\n",
       "    .dataframe tbody tr th:only-of-type {\n",
       "        vertical-align: middle;\n",
       "    }\n",
       "\n",
       "    .dataframe tbody tr th {\n",
       "        vertical-align: top;\n",
       "    }\n",
       "\n",
       "    .dataframe thead th {\n",
       "        text-align: right;\n",
       "    }\n",
       "</style>\n",
       "<table border=\"1\" class=\"dataframe\">\n",
       "  <thead>\n",
       "    <tr style=\"text-align: right;\">\n",
       "      <th></th>\n",
       "      <th>id</th>\n",
       "      <th>resource_state</th>\n",
       "      <th>name</th>\n",
       "      <th>elapsed_time</th>\n",
       "      <th>moving_time</th>\n",
       "      <th>start_date</th>\n",
       "      <th>start_date_local</th>\n",
       "      <th>distance</th>\n",
       "      <th>average_speed</th>\n",
       "      <th>max_speed</th>\n",
       "      <th>...</th>\n",
       "      <th>device_watts</th>\n",
       "      <th>average_watts</th>\n",
       "      <th>average_heartrate</th>\n",
       "      <th>max_heartrate</th>\n",
       "      <th>pace_zone</th>\n",
       "      <th>activity_id</th>\n",
       "      <th>athlete_id</th>\n",
       "      <th>start_day</th>\n",
       "      <th>start_hour</th>\n",
       "      <th>start_weekday</th>\n",
       "    </tr>\n",
       "  </thead>\n",
       "  <tbody>\n",
       "    <tr>\n",
       "      <th>0</th>\n",
       "      <td>41582694580</td>\n",
       "      <td>2</td>\n",
       "      <td>Lap 4</td>\n",
       "      <td>398</td>\n",
       "      <td>398</td>\n",
       "      <td>2024-07-15 12:27:43+00:00</td>\n",
       "      <td>2024-07-15 08:27:43+00:00</td>\n",
       "      <td>1609.34</td>\n",
       "      <td>4.04</td>\n",
       "      <td>5.298</td>\n",
       "      <td>...</td>\n",
       "      <td>1</td>\n",
       "      <td>356.5</td>\n",
       "      <td>171.1</td>\n",
       "      <td>175.0</td>\n",
       "      <td>2</td>\n",
       "      <td>11893488406</td>\n",
       "      <td>57248538</td>\n",
       "      <td>15</td>\n",
       "      <td>8</td>\n",
       "      <td>0</td>\n",
       "    </tr>\n",
       "    <tr>\n",
       "      <th>1</th>\n",
       "      <td>41582694568</td>\n",
       "      <td>2</td>\n",
       "      <td>Lap 2</td>\n",
       "      <td>403</td>\n",
       "      <td>403</td>\n",
       "      <td>2024-07-15 12:14:16+00:00</td>\n",
       "      <td>2024-07-15 08:14:16+00:00</td>\n",
       "      <td>1609.34</td>\n",
       "      <td>3.99</td>\n",
       "      <td>4.946</td>\n",
       "      <td>...</td>\n",
       "      <td>1</td>\n",
       "      <td>339.0</td>\n",
       "      <td>162.4</td>\n",
       "      <td>166.0</td>\n",
       "      <td>2</td>\n",
       "      <td>11893488406</td>\n",
       "      <td>57248538</td>\n",
       "      <td>15</td>\n",
       "      <td>8</td>\n",
       "      <td>0</td>\n",
       "    </tr>\n",
       "    <tr>\n",
       "      <th>2</th>\n",
       "      <td>41582694590</td>\n",
       "      <td>2</td>\n",
       "      <td>Lap 5</td>\n",
       "      <td>404</td>\n",
       "      <td>404</td>\n",
       "      <td>2024-07-15 12:34:22+00:00</td>\n",
       "      <td>2024-07-15 08:34:22+00:00</td>\n",
       "      <td>1609.34</td>\n",
       "      <td>3.98</td>\n",
       "      <td>5.616</td>\n",
       "      <td>...</td>\n",
       "      <td>1</td>\n",
       "      <td>384.7</td>\n",
       "      <td>175.0</td>\n",
       "      <td>178.0</td>\n",
       "      <td>2</td>\n",
       "      <td>11893488406</td>\n",
       "      <td>57248538</td>\n",
       "      <td>15</td>\n",
       "      <td>8</td>\n",
       "      <td>0</td>\n",
       "    </tr>\n",
       "    <tr>\n",
       "      <th>3</th>\n",
       "      <td>41582694571</td>\n",
       "      <td>2</td>\n",
       "      <td>Lap 3</td>\n",
       "      <td>404</td>\n",
       "      <td>404</td>\n",
       "      <td>2024-07-15 12:20:59+00:00</td>\n",
       "      <td>2024-07-15 08:20:59+00:00</td>\n",
       "      <td>1609.34</td>\n",
       "      <td>3.98</td>\n",
       "      <td>4.826</td>\n",
       "      <td>...</td>\n",
       "      <td>1</td>\n",
       "      <td>344.9</td>\n",
       "      <td>166.9</td>\n",
       "      <td>169.0</td>\n",
       "      <td>2</td>\n",
       "      <td>11893488406</td>\n",
       "      <td>57248538</td>\n",
       "      <td>15</td>\n",
       "      <td>8</td>\n",
       "      <td>0</td>\n",
       "    </tr>\n",
       "    <tr>\n",
       "      <th>4</th>\n",
       "      <td>41582694609</td>\n",
       "      <td>2</td>\n",
       "      <td>Lap 8</td>\n",
       "      <td>411</td>\n",
       "      <td>411</td>\n",
       "      <td>2024-07-15 12:55:14+00:00</td>\n",
       "      <td>2024-07-15 08:55:14+00:00</td>\n",
       "      <td>1608.63</td>\n",
       "      <td>3.91</td>\n",
       "      <td>4.814</td>\n",
       "      <td>...</td>\n",
       "      <td>1</td>\n",
       "      <td>395.3</td>\n",
       "      <td>177.6</td>\n",
       "      <td>182.0</td>\n",
       "      <td>2</td>\n",
       "      <td>11893488406</td>\n",
       "      <td>57248538</td>\n",
       "      <td>15</td>\n",
       "      <td>8</td>\n",
       "      <td>0</td>\n",
       "    </tr>\n",
       "  </tbody>\n",
       "</table>\n",
       "<p>5 rows × 26 columns</p>\n",
       "</div>"
      ],
      "text/plain": [
       "            id  resource_state   name  elapsed_time  moving_time  \\\n",
       "0  41582694580               2  Lap 4           398          398   \n",
       "1  41582694568               2  Lap 2           403          403   \n",
       "2  41582694590               2  Lap 5           404          404   \n",
       "3  41582694571               2  Lap 3           404          404   \n",
       "4  41582694609               2  Lap 8           411          411   \n",
       "\n",
       "                 start_date          start_date_local  distance  \\\n",
       "0 2024-07-15 12:27:43+00:00 2024-07-15 08:27:43+00:00   1609.34   \n",
       "1 2024-07-15 12:14:16+00:00 2024-07-15 08:14:16+00:00   1609.34   \n",
       "2 2024-07-15 12:34:22+00:00 2024-07-15 08:34:22+00:00   1609.34   \n",
       "3 2024-07-15 12:20:59+00:00 2024-07-15 08:20:59+00:00   1609.34   \n",
       "4 2024-07-15 12:55:14+00:00 2024-07-15 08:55:14+00:00   1608.63   \n",
       "\n",
       "   average_speed  max_speed  ...  device_watts  average_watts  \\\n",
       "0           4.04      5.298  ...             1          356.5   \n",
       "1           3.99      4.946  ...             1          339.0   \n",
       "2           3.98      5.616  ...             1          384.7   \n",
       "3           3.98      4.826  ...             1          344.9   \n",
       "4           3.91      4.814  ...             1          395.3   \n",
       "\n",
       "   average_heartrate  max_heartrate  pace_zone  activity_id  athlete_id  \\\n",
       "0              171.1          175.0          2  11893488406    57248538   \n",
       "1              162.4          166.0          2  11893488406    57248538   \n",
       "2              175.0          178.0          2  11893488406    57248538   \n",
       "3              166.9          169.0          2  11893488406    57248538   \n",
       "4              177.6          182.0          2  11893488406    57248538   \n",
       "\n",
       "   start_day  start_hour  start_weekday  \n",
       "0         15           8              0  \n",
       "1         15           8              0  \n",
       "2         15           8              0  \n",
       "3         15           8              0  \n",
       "4         15           8              0  \n",
       "\n",
       "[5 rows x 26 columns]"
      ]
     },
     "execution_count": 44,
     "metadata": {},
     "output_type": "execute_result"
    }
   ],
   "source": [
    "# Identify columns that are completely empty\n",
    "empty_columns = laps.columns[laps.isna().all()]\n",
    "\n",
    "# Drop columns that are completely empty\n",
    "laps = laps.drop(columns=empty_columns)\n",
    "\n",
    "# Print the names of dropped columns (optional)\n",
    "print(\"Dropped columns:\", empty_columns)\n",
    "\n",
    "# Print the shape of the new dataframe\n",
    "print(laps.shape)\n",
    "\n",
    "# Print the new dataframe\n",
    "laps.head(5)"
   ]
  },
  {
   "cell_type": "markdown",
   "id": "171a8c14-bf24-41a7-9c4c-67457f59dbb8",
   "metadata": {},
   "source": [
    "### Checking for missing values"
   ]
  },
  {
   "cell_type": "code",
   "execution_count": 45,
   "id": "63ca060a-4bf3-4edd-8909-fac80069bfe7",
   "metadata": {
    "tags": []
   },
   "outputs": [
    {
     "name": "stdout",
     "output_type": "stream",
     "text": [
      "id                      0\n",
      "resource_state          0\n",
      "name                    0\n",
      "elapsed_time            0\n",
      "moving_time             0\n",
      "start_date              0\n",
      "start_date_local        0\n",
      "distance                0\n",
      "average_speed           0\n",
      "max_speed               0\n",
      "lap_index               0\n",
      "split                   0\n",
      "start_index             0\n",
      "end_index               0\n",
      "total_elevation_gain    0\n",
      "average_cadence         0\n",
      "device_watts            0\n",
      "average_watts           0\n",
      "average_heartrate       0\n",
      "max_heartrate           0\n",
      "pace_zone               0\n",
      "activity_id             0\n",
      "athlete_id              0\n",
      "start_day               0\n",
      "start_hour              0\n",
      "start_weekday           0\n",
      "dtype: int64\n"
     ]
    }
   ],
   "source": [
    "# Get the count of missing values in each column\n",
    "missing_values = laps.isna().sum()\n",
    "\n",
    "# Display columns with their respective missing values count\n",
    "print(missing_values)"
   ]
  },
  {
   "cell_type": "code",
   "execution_count": 46,
   "id": "6b67f30f-cf3c-4d90-9bbd-263d4f1fdf95",
   "metadata": {
    "tags": []
   },
   "outputs": [
    {
     "name": "stdout",
     "output_type": "stream",
     "text": [
      "(2184, 24)\n"
     ]
    }
   ],
   "source": [
    "#laps.drop(['workout_type', 'prefer_perceived_exertion'], axis=1,inplace=True)\n",
    "laps.drop(['activity_id', 'athlete_id'], axis=1,inplace=True)\n",
    "print(laps.shape)"
   ]
  },
  {
   "cell_type": "code",
   "execution_count": 47,
   "id": "40a04e6b-fa13-4c17-b2f1-7f24f0374716",
   "metadata": {
    "tags": []
   },
   "outputs": [
    {
     "name": "stdout",
     "output_type": "stream",
     "text": [
      "(2184, 24)\n"
     ]
    }
   ],
   "source": [
    "laps = laps.dropna()\n",
    "print(laps.shape)"
   ]
  },
  {
   "cell_type": "markdown",
   "id": "91f5f2f3-5a3c-44ef-adb9-d165af490a2e",
   "metadata": {},
   "source": [
    "### Removing Demo activities"
   ]
  },
  {
   "cell_type": "markdown",
   "id": "5011f9ba-6b42-4ccd-8327-62c36faaf3af",
   "metadata": {
    "tags": []
   },
   "source": [
    "## Prediciting Grade Adjusted Pace from Laps Table"
   ]
  },
  {
   "cell_type": "code",
   "execution_count": 48,
   "id": "3f0a6cae-2bc5-4344-8fb7-f5fa68b9eeaa",
   "metadata": {
    "tags": []
   },
   "outputs": [
    {
     "data": {
      "text/plain": [
       "array(['id', 'resource_state', 'name', 'elapsed_time', 'moving_time',\n",
       "       'start_date', 'start_date_local', 'distance', 'average_speed',\n",
       "       'max_speed', 'lap_index', 'split', 'start_index', 'end_index',\n",
       "       'total_elevation_gain', 'average_cadence', 'device_watts',\n",
       "       'average_watts', 'average_heartrate', 'max_heartrate', 'pace_zone',\n",
       "       'start_day', 'start_hour', 'start_weekday'], dtype=object)"
      ]
     },
     "execution_count": 48,
     "metadata": {},
     "output_type": "execute_result"
    }
   ],
   "source": [
    "laps.columns.values"
   ]
  },
  {
   "cell_type": "code",
   "execution_count": 49,
   "id": "850e2ad9-3378-4e8e-a8f5-70eaadc9addf",
   "metadata": {
    "tags": []
   },
   "outputs": [],
   "source": [
    "# List of selected columns to keep as features\n",
    "feature_columns = [\n",
    "    'elapsed_time','distance', 'average_speed', 'max_speed', 'total_elevation_gain',\n",
    "    'average_cadence',  'average_watts', 'average_heartrate','max_heartrate'\n",
    "]\n",
    "\n",
    "# Keep only the selected columns in your DataFrame\n",
    "X = laps[feature_columns]\n",
    "y = laps['moving_time']"
   ]
  },
  {
   "cell_type": "code",
   "execution_count": 50,
   "id": "beebb6da-097e-4eee-acd2-7744e1d11ddf",
   "metadata": {
    "tags": []
   },
   "outputs": [],
   "source": [
    "X_train, X_test, y_train, y_test = train_test_split(X, y, test_size=0.2, random_state=42)"
   ]
  },
  {
   "cell_type": "markdown",
   "id": "71139a5d-ab23-4b6d-a246-460250fce5a0",
   "metadata": {},
   "source": [
    "### Modeling"
   ]
  },
  {
   "cell_type": "markdown",
   "id": "14bc542b-b8ed-46cd-b8cd-9d300059f0ae",
   "metadata": {},
   "source": [
    "### Linear Regression Model"
   ]
  },
  {
   "cell_type": "code",
   "execution_count": 51,
   "id": "aa49592d-a99b-4c61-ae9f-254260838003",
   "metadata": {
    "tags": []
   },
   "outputs": [
    {
     "name": "stdout",
     "output_type": "stream",
     "text": [
      "Linear Regression MAE: 12.370445224385502\n",
      "Linear Regression R²: 0.9860121945060785\n"
     ]
    }
   ],
   "source": [
    "pipeline_lr = Pipeline([\n",
    "    ('scaler', StandardScaler()),\n",
    "    ('lr', LinearRegression())\n",
    "])\n",
    "\n",
    "pipeline_lr.fit(X_train, y_train)\n",
    "y_pred_lr = pipeline_lr.predict(X_test)\n",
    "\n",
    "mae_lr = mean_absolute_error(y_test, y_pred_lr)\n",
    "r2_lr = r2_score(y_test, y_pred_lr)\n",
    "print(\"Linear Regression MAE:\", mae_lr)\n",
    "print(\"Linear Regression R²:\", r2_lr)"
   ]
  },
  {
   "cell_type": "markdown",
   "id": "38c02c8b-27a0-49b4-92fd-4143cb89c30b",
   "metadata": {},
   "source": [
    "### Random Forest model"
   ]
  },
  {
   "cell_type": "code",
   "execution_count": 52,
   "id": "bfffb6da-e75f-4686-8e0d-aca2d08a9d0f",
   "metadata": {
    "tags": []
   },
   "outputs": [
    {
     "name": "stdout",
     "output_type": "stream",
     "text": [
      "Random Forest MAE: 1.1227055153034704\n",
      "Random Forest R²: 0.9989079581316219\n",
      "Best Parameters for Random Forest: {'rf__max_depth': 10, 'rf__min_samples_split': 2, 'rf__n_estimators': 200}\n"
     ]
    }
   ],
   "source": [
    "pipeline_rf = Pipeline([\n",
    "    ('scaler', StandardScaler()),\n",
    "    ('rf', RandomForestRegressor(random_state=42))\n",
    "])\n",
    "\n",
    "param_grid_rf = {\n",
    "    'rf__n_estimators': [100, 200, 300],\n",
    "    'rf__max_depth': [10, 20, 30, None],\n",
    "    'rf__min_samples_split': [2, 5, 10]\n",
    "}\n",
    "\n",
    "grid_search_rf = GridSearchCV(estimator=pipeline_rf, param_grid=param_grid_rf, cv=5, scoring='neg_mean_squared_error', n_jobs=-1, verbose=0)\n",
    "grid_search_rf.fit(X_train, y_train)\n",
    "\n",
    "best_rf = grid_search_rf.best_estimator_\n",
    "y_pred_rf = best_rf.predict(X_test)\n",
    "\n",
    "mae_rf = mean_absolute_error(y_test, y_pred_rf)\n",
    "r2_rf = r2_score(y_test, y_pred_rf)\n",
    "print(\"Random Forest MAE:\", mae_rf)\n",
    "print(\"Random Forest R²:\", r2_rf)\n",
    "print(\"Best Parameters for Random Forest:\", grid_search_rf.best_params_)"
   ]
  },
  {
   "cell_type": "markdown",
   "id": "f419712f-c784-466b-b495-0b19017306ce",
   "metadata": {},
   "source": [
    "### XGBoost model"
   ]
  },
  {
   "cell_type": "code",
   "execution_count": 53,
   "id": "9d921b8d-1c2e-4411-828b-264a716d389e",
   "metadata": {
    "tags": []
   },
   "outputs": [
    {
     "name": "stdout",
     "output_type": "stream",
     "text": [
      "XGBoost MAE: 1.466601588360505\n",
      "XGBoost R²: 0.999196469783783\n",
      "Best Parameters for XGBoost: {'xgb__learning_rate': 0.1, 'xgb__max_depth': 3, 'xgb__n_estimators': 200, 'xgb__subsample': 0.8}\n"
     ]
    }
   ],
   "source": [
    "pipeline_xgb = Pipeline([\n",
    "    ('scaler', StandardScaler()),\n",
    "    ('xgb', XGBRegressor(objective='reg:squarederror', random_state=42))\n",
    "])\n",
    "\n",
    "param_grid_xgb = {\n",
    "    'xgb__n_estimators': [100, 200],\n",
    "    'xgb__max_depth': [3, 6, 10],\n",
    "    'xgb__learning_rate': [0.01, 0.1, 0.2],\n",
    "    'xgb__subsample': [0.7, 0.8, 0.9]\n",
    "}\n",
    "\n",
    "grid_search_xgb = GridSearchCV(estimator=pipeline_xgb, param_grid=param_grid_xgb, cv=5, scoring='neg_mean_squared_error', n_jobs=-1, verbose=0)\n",
    "grid_search_xgb.fit(X_train, y_train)\n",
    "\n",
    "best_xgb = grid_search_xgb.best_estimator_\n",
    "y_pred_xgb = best_xgb.predict(X_test)\n",
    "\n",
    "mae_xgb = mean_absolute_error(y_test, y_pred_xgb)\n",
    "r2_xgb = r2_score(y_test, y_pred_xgb)\n",
    "print(\"XGBoost MAE:\", mae_xgb)\n",
    "print(\"XGBoost R²:\", r2_xgb)\n",
    "print(\"Best Parameters for XGBoost:\", grid_search_xgb.best_params_)"
   ]
  },
  {
   "cell_type": "markdown",
   "id": "4741c9a1-a5fa-42ea-8082-c1b4da206bb6",
   "metadata": {},
   "source": [
    "### Best performance model"
   ]
  },
  {
   "cell_type": "code",
   "execution_count": 54,
   "id": "e9a83cc4-b298-4354-b281-6f731034b41b",
   "metadata": {
    "tags": []
   },
   "outputs": [
    {
     "name": "stdout",
     "output_type": "stream",
     "text": [
      "Best Model based on MAE:\n",
      "Random Forest with MAE = 1.1227055153034704 and R² = 0.9989079581316219\n",
      "\n",
      "Best Model based on R²:\n",
      "XGBoost with R² = 0.999196469783783 and MAE = 1.466601588360505\n"
     ]
    }
   ],
   "source": [
    "model_performance = {\n",
    "    \"Linear Regression\": {\"MAE\": mae_lr, \"R²\": r2_lr},\n",
    "    \"Random Forest\": {\"MAE\": mae_rf, \"R²\": r2_rf},\n",
    "    \"XGBoost\": {\"MAE\": mae_xgb, \"R²\": r2_xgb}\n",
    "}\n",
    "\n",
    "best_model_mae = min(model_performance, key=lambda x: model_performance[x][\"MAE\"])\n",
    "best_model_r2 = max(model_performance, key=lambda x: model_performance[x][\"R²\"])\n",
    "\n",
    "print(\"Best Model based on MAE:\")\n",
    "print(f\"{best_model_mae} with MAE = {model_performance[best_model_mae]['MAE']} and R² = {model_performance[best_model_mae]['R²']}\")\n",
    "\n",
    "print(\"\\nBest Model based on R²:\")\n",
    "print(f\"{best_model_r2} with R² = {model_performance[best_model_r2]['R²']} and MAE = {model_performance[best_model_r2]['MAE']}\")"
   ]
  },
  {
   "cell_type": "markdown",
   "id": "6617227d-9d76-45a0-89b5-f7103ea598d8",
   "metadata": {},
   "source": [
    "### Grade Adjusted Pace Calculation"
   ]
  },
  {
   "cell_type": "code",
   "execution_count": 55,
   "id": "17c74a27-85b3-43d4-abf1-37a5f19dc83e",
   "metadata": {
    "tags": []
   },
   "outputs": [],
   "source": [
    "# Select the best model\n",
    "if best_model_mae == best_model_r2:\n",
    "    final_model = best_model_mae\n",
    "else:\n",
    "    final_model = best_model_mae \n",
    "\n",
    "# Retrieve the trained model\n",
    "if final_model == \"Linear Regression\":\n",
    "    selected_model = lr_model\n",
    "elif final_model == \"Random Forest\":\n",
    "    selected_model = best_rf\n",
    "else:\n",
    "    selected_model = best_xgb"
   ]
  },
  {
   "cell_type": "code",
   "execution_count": 56,
   "id": "9620742d-fd75-4424-a9e4-706642ddd427",
   "metadata": {
    "tags": []
   },
   "outputs": [
    {
     "data": {
      "text/html": [
       "<div>\n",
       "<style scoped>\n",
       "    .dataframe tbody tr th:only-of-type {\n",
       "        vertical-align: middle;\n",
       "    }\n",
       "\n",
       "    .dataframe tbody tr th {\n",
       "        vertical-align: top;\n",
       "    }\n",
       "\n",
       "    .dataframe thead th {\n",
       "        text-align: right;\n",
       "    }\n",
       "</style>\n",
       "<table border=\"1\" class=\"dataframe\">\n",
       "  <thead>\n",
       "    <tr style=\"text-align: right;\">\n",
       "      <th></th>\n",
       "      <th>orig_total_elevation_gain</th>\n",
       "      <th>orig_moving_time_mins</th>\n",
       "      <th>pred_moving_time_mins</th>\n",
       "      <th>Grade_Adjusted_Pace</th>\n",
       "      <th>pace</th>\n",
       "      <th>diff</th>\n",
       "    </tr>\n",
       "  </thead>\n",
       "  <tbody>\n",
       "    <tr>\n",
       "      <th>282</th>\n",
       "      <td>3.2</td>\n",
       "      <td>5.416667</td>\n",
       "      <td>5.414917</td>\n",
       "      <td>5.422042</td>\n",
       "      <td>5.417826</td>\n",
       "      <td>0.004216</td>\n",
       "    </tr>\n",
       "    <tr>\n",
       "      <th>367</th>\n",
       "      <td>4.6</td>\n",
       "      <td>5.366667</td>\n",
       "      <td>5.476367</td>\n",
       "      <td>5.486116</td>\n",
       "      <td>5.367816</td>\n",
       "      <td>0.1183</td>\n",
       "    </tr>\n",
       "    <tr>\n",
       "      <th>514</th>\n",
       "      <td>11.8</td>\n",
       "      <td>6.816667</td>\n",
       "      <td>6.823076</td>\n",
       "      <td>6.845091</td>\n",
       "      <td>6.816686</td>\n",
       "      <td>0.028406</td>\n",
       "    </tr>\n",
       "    <tr>\n",
       "      <th>605</th>\n",
       "      <td>24.0</td>\n",
       "      <td>6.883333</td>\n",
       "      <td>6.882946</td>\n",
       "      <td>6.929168</td>\n",
       "      <td>6.884807</td>\n",
       "      <td>0.04436</td>\n",
       "    </tr>\n",
       "    <tr>\n",
       "      <th>508</th>\n",
       "      <td>26.4</td>\n",
       "      <td>6.933333</td>\n",
       "      <td>6.932357</td>\n",
       "      <td>6.981589</td>\n",
       "      <td>6.933353</td>\n",
       "      <td>0.048236</td>\n",
       "    </tr>\n",
       "  </tbody>\n",
       "</table>\n",
       "</div>"
      ],
      "text/plain": [
       "     orig_total_elevation_gain  orig_moving_time_mins  pred_moving_time_mins  \\\n",
       "282                        3.2               5.416667               5.414917   \n",
       "367                        4.6               5.366667               5.476367   \n",
       "514                       11.8               6.816667               6.823076   \n",
       "605                       24.0               6.883333               6.882946   \n",
       "508                       26.4               6.933333               6.932357   \n",
       "\n",
       "     Grade_Adjusted_Pace      pace      diff  \n",
       "282             5.422042  5.417826  0.004216  \n",
       "367             5.486116  5.367816    0.1183  \n",
       "514             6.845091  6.816686  0.028406  \n",
       "605             6.929168  6.884807   0.04436  \n",
       "508             6.981589  6.933353  0.048236  "
      ]
     },
     "execution_count": 56,
     "metadata": {},
     "output_type": "execute_result"
    }
   ],
   "source": [
    "# Copy X_test to start building the prediction dataframe\n",
    "pred_df = X_test.copy()\n",
    "pred_df['total_elevation_gain'] = 0  \n",
    "\n",
    "# Make predictions for moving time\n",
    "predicted_moving_time = selected_model.predict(pred_df)\n",
    "pred_df['orig_total_elevation_gain'] = X_test['total_elevation_gain']\n",
    "pred_df['orig_moving_time'] = y_test\n",
    "pred_df['pred_moving_time'] = predicted_moving_time\n",
    "\n",
    "\n",
    "pred_df['distance_miles'] = pred_df['distance'] * 0.000621371\n",
    "pred_df['orig_moving_time_mins'] = pred_df['orig_moving_time'] / 60.0  \n",
    "pred_df['pred_moving_time_mins'] = pred_df['pred_moving_time'] / 60.0  \n",
    "\n",
    "\n",
    "pred_df['pace'] = pred_df['orig_moving_time_mins'] / pred_df['distance_miles']\n",
    "\n",
    "# Calculate Grade Adjusted Pace (GAP)\n",
    "grade_percent = (pred_df['orig_total_elevation_gain'] / pred_df['distance']) * 100\n",
    "adjustment_factor = 0.03  \n",
    "pred_df['Grade_Adjusted_Pace'] = (pred_df['pred_moving_time_mins'] + grade_percent * adjustment_factor * pred_df['distance_miles']) / pred_df['distance_miles']\n",
    "pred_df['diff'] = pred_df['Grade_Adjusted_Pace']-pred_df['pace']\n",
    "\n",
    "\n",
    "pred_df[['orig_total_elevation_gain', 'orig_moving_time_mins', 'pred_moving_time_mins', 'Grade_Adjusted_Pace', 'pace', 'diff']].head(5)"
   ]
  },
  {
   "cell_type": "code",
   "execution_count": 69,
   "id": "70d488a5-3ff1-4d85-ac38-0123faceba16",
   "metadata": {},
   "outputs": [
    {
     "data": {
      "image/png": "[encoded data removed]",
      "text/plain": [
       "<Figure size 1000x400 with 1 Axes>"
      ]
     },
     "metadata": {},
     "output_type": "display_data"
    }
   ],
   "source": [
    "import matplotlib.pyplot as plt\n",
    "\n",
    "# Calculate the difference between GAP and Pace\n",
    "pred_df['gap_vs_pace_diff'] = pred_df['Grade_Adjusted_Pace'] - pred_df['pace']\n",
    "\n",
    "# Group by total_elevation_gain and calculate the mean difference\n",
    "avg_diff_df = pred_df.groupby('orig_total_elevation_gain').agg(\n",
    "    avg_diff=('gap_vs_pace_diff', 'mean')\n",
    ").reset_index()\n",
    "\n",
    "# Set up the figure\n",
    "plt.figure(figsize=(10, 4))\n",
    "\n",
    "# Plot the average difference between GAP and Pace\n",
    "plt.bar(avg_diff_df['orig_total_elevation_gain'], avg_diff_df['avg_diff'], color='purple', alpha=0.7)\n",
    "\n",
    "# Add labels and title\n",
    "plt.title('Average Difference Between Grade Adjusted Pace and Pace vs Total Elevation Gain')\n",
    "plt.xlabel('Total Elevation Gain (meters)')\n",
    "plt.ylabel('Average Difference (Minutes)')\n",
    "plt.axhline(0, color='black', linewidth=1, linestyle='--')  # Horizontal line at 0 for reference\n",
    "\n",
    "# Show the plot\n",
    "plt.tight_layout()\n",
    "plt.show()"
   ]
  },
  {
   "cell_type": "code",
   "execution_count": 68,
   "id": "ebae6db2-771f-40b0-ae39-6b055f0c32c0",
   "metadata": {
    "tags": []
   },
   "outputs": [
    {
     "data": {
      "image/png": "[encoded data removed]",
      "text/plain": [
       "<Figure size 1000x400 with 1 Axes>"
      ]
     },
     "metadata": {},
     "output_type": "display_data"
    }
   ],
   "source": [
    "# Plot histogram of the difference between GAP and Pace\n",
    "plt.figure(figsize=(10, 4))\n",
    "plt.hist(pred_df['gap_vs_pace_diff'], bins=30, color='green', edgecolor='black', alpha=0.7)\n",
    "\n",
    "# Add labels and title\n",
    "plt.title('Distribution of the Difference Between Grade Adjusted Pace and Pace')\n",
    "plt.xlabel('Difference (Minutes)')\n",
    "plt.ylabel('Frequency')\n",
    "\n",
    "# Show the plot\n",
    "plt.tight_layout()\n",
    "plt.show()"
   ]
  },
  {
   "cell_type": "code",
   "execution_count": 67,
   "id": "d5b3a932-9e14-4187-9039-5f8456ec08a9",
   "metadata": {
    "tags": []
   },
   "outputs": [
    {
     "data": {
      "image/png": "[encoded data removed]",
      "text/plain": [
       "<Figure size 1000x400 with 1 Axes>"
      ]
     },
     "metadata": {},
     "output_type": "display_data"
    }
   ],
   "source": [
    "# Set up the figure\n",
    "plt.figure(figsize=(10, 4))\n",
    "\n",
    "# Plot the difference between GAP and Pace\n",
    "plt.scatter(pred_df['orig_total_elevation_gain'], pred_df['gap_vs_pace_diff'], color='red', alpha=0.6)\n",
    "\n",
    "# Add labels and title\n",
    "plt.title('Difference Between Grade Adjusted Pace and Pace vs Total Elevation Gain')\n",
    "plt.xlabel('Total Elevation Gain (meters)')\n",
    "plt.ylabel('Difference (Minutes)')\n",
    "\n",
    "# Show the plot\n",
    "plt.tight_layout()\n",
    "plt.show()"
   ]
  },
  {
   "cell_type": "code",
   "execution_count": 57,
   "id": "70741c40-d058-4731-ab22-91c7905ff89d",
   "metadata": {},
   "outputs": [],
   "source": [
    "# Copy X_test to start building the prediction dataframe\n",
    "pred_df = X_test.copy()\n",
    "pred_df['total_elevation_gain'] = 0  \n",
    "\n",
    "# Make predictions for moving time\n",
    "predicted_moving_time = selected_model.predict(pred_df)\n",
    "pred_df['orig_total_elevation_gain'] = X_test['total_elevation_gain']\n",
    "pred_df['orig_moving_time'] = y_test\n",
    "pred_df['pred_moving_time'] = predicted_moving_time\n",
    "\n",
    "\n",
    "pred_df['distance_miles'] = pred_df['distance'] * 0.000621371\n",
    "pred_df['orig_moving_time_mins'] = pred_df['orig_moving_time'] / 60.0  \n",
    "pred_df['pred_moving_time_mins'] = pred_df['pred_moving_time'] / 60.0  \n",
    "\n",
    "\n",
    "pred_df['pace'] = pred_df['orig_moving_time_mins'] / pred_df['distance_miles']\n",
    "\n",
    "pred_df['Grade_Adjusted_Pace'] = pred_df['pred_moving_time_mins'] / pred_df['distance_miles']\n",
    "pred_df['diff'] = pred_df['Grade_Adjusted_Pace']-pred_df['pace']\n",
    "\n",
    "#pred_df[['orig_total_elevation_gain', 'orig_moving_time_mins', 'pred_moving_time_mins', 'Grade_Adjusted_Pace', 'pace', 'diff']].head(5)"
   ]
  },
  {
   "cell_type": "code",
   "execution_count": null,
   "id": "521ae425-9ac1-4db3-8fc0-25073b1784de",
   "metadata": {},
   "outputs": [],
   "source": []
  }
 ],
 "metadata": {
  "environment": {
   "kernel": "python3",
   "name": "common-cu118.m125",
   "type": "gcloud",
   "uri": "us-docker.pkg.dev/deeplearning-platform-release/gcr.io/base-cu118:m125"
  },
  "kernelspec": {
   "display_name": "Python 3 (Local)",
   "language": "python",
   "name": "python3"
  },
  "language_info": {
   "codemirror_mode": {
    "name": "ipython",
    "version": 3
   },
   "file_extension": ".py",
   "mimetype": "text/x-python",
   "name": "python",
   "nbconvert_exporter": "python",
   "pygments_lexer": "ipython3",
   "version": "3.10.15"
  }
 },
 "nbformat": 4,
 "nbformat_minor": 5
}
